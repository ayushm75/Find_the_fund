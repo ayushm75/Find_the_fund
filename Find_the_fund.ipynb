{
 "cells": [
  {
   "cell_type": "code",
   "execution_count": 75,
   "metadata": {},
   "outputs": [],
   "source": [
    "import numpy as np\n",
    "import matplotlib.pyplot as plt\n",
    "import pandas as pnd\n",
    "\n",
    "df1 = pnd.read_csv('train.csv')\n",
    "df2 = pnd.read_csv('test.csv')"
   ]
  },
  {
   "cell_type": "code",
   "execution_count": 76,
   "metadata": {},
   "outputs": [
    {
     "data": {
      "text/plain": [
       "ID                        0.000000\n",
       "comp_name                 0.000000\n",
       "website                   6.134832\n",
       "op_status                 0.000000\n",
       "domain                    5.485788\n",
       "founded_on               25.397260\n",
       "hq_country_code          11.222739\n",
       "hq_state_code            13.898491\n",
       "hq_region                13.048019\n",
       "hq_city                  13.043046\n",
       "total_funding_usd        19.056027\n",
       "funding_rounds            0.000000\n",
       "first_funding_date        0.000000\n",
       "last_funding_date         0.000000\n",
       "num_investors             0.000000\n",
       "funding_duration          0.000000\n",
       "first_funding_utc         0.000000\n",
       "last_funding_utc          0.000000\n",
       "successful_investment     0.000000\n",
       "dtype: float64"
      ]
     },
     "execution_count": 76,
     "metadata": {},
     "output_type": "execute_result"
    }
   ],
   "source": [
    "df1.drop(df1.columns[[19, 20, 21]], axis=1, inplace=True)\n",
    "df2.drop(df2.columns[[18]], axis=1, inplace=True)\n",
    "df1.isnull().sum()/len(df1)*100\n"
   ]
  },
  {
   "cell_type": "code",
   "execution_count": 77,
   "metadata": {},
   "outputs": [
    {
     "name": "stdout",
     "output_type": "stream",
     "text": [
      "<class 'pandas.core.frame.DataFrame'>\n",
      "RangeIndex: 40213 entries, 0 to 40212\n",
      "Data columns (total 18 columns):\n",
      "ID                       40213 non-null int64\n",
      "comp_name                40213 non-null object\n",
      "website                  37746 non-null object\n",
      "op_status                40213 non-null object\n",
      "domain                   38007 non-null object\n",
      "hq_country_code          35700 non-null object\n",
      "hq_state_code            34624 non-null object\n",
      "hq_region                34966 non-null object\n",
      "hq_city                  34968 non-null object\n",
      "total_funding_usd        32550 non-null float64\n",
      "funding_rounds           40213 non-null int64\n",
      "first_funding_date       40213 non-null object\n",
      "last_funding_date        40213 non-null object\n",
      "num_investors            40213 non-null int64\n",
      "funding_duration         40213 non-null int64\n",
      "first_funding_utc        40213 non-null int64\n",
      "last_funding_utc         40213 non-null int64\n",
      "successful_investment    40213 non-null int64\n",
      "dtypes: float64(1), int64(7), object(10)\n",
      "memory usage: 5.5+ MB\n"
     ]
    }
   ],
   "source": [
    "df1.drop(['founded_on'], inplace=True, axis=1)\n",
    "df1.info()"
   ]
  },
  {
   "cell_type": "code",
   "execution_count": 78,
   "metadata": {},
   "outputs": [],
   "source": [
    "df1['website'].fillna(df1['website'].mode()[0], inplace=True)\n",
    "df1['domain'].fillna(df1['domain'].mode()[0], inplace=True)\n",
    "df1['hq_country_code'].fillna(df1['hq_country_code'].mode()[0], inplace=True)\n",
    "df1['hq_state_code'].fillna(df1['hq_state_code'].mode()[0], inplace=True)\n",
    "df1['hq_region'].fillna(df1['hq_region'].mode()[0], inplace=True)\n",
    "df1['hq_city'].fillna(df1['hq_city'].mode()[0], inplace=True)\n",
    "df1['total_funding_usd'].fillna(df1['total_funding_usd'].mode()[0], inplace=True)"
   ]
  },
  {
   "cell_type": "code",
   "execution_count": 79,
   "metadata": {},
   "outputs": [
    {
     "data": {
      "text/plain": [
       "ID                       1.347605e+08\n",
       "total_funding_usd        3.913566e+16\n",
       "funding_rounds           2.237362e+00\n",
       "num_investors            2.400574e+01\n",
       "funding_duration         6.081422e+05\n",
       "first_funding_utc        1.983108e+06\n",
       "last_funding_utc         1.771644e+06\n",
       "successful_investment    1.146682e-01\n",
       "dtype: float64"
      ]
     },
     "execution_count": 79,
     "metadata": {},
     "output_type": "execute_result"
    }
   ],
   "source": [
    "#calcualting the variance\n",
    "#variables with a low variance will not affect the target variable\n",
    "df1.var()"
   ]
  },
  {
   "cell_type": "code",
   "execution_count": 80,
   "metadata": {},
   "outputs": [
    {
     "data": {
      "text/html": [
       "<div>\n",
       "<style scoped>\n",
       "    .dataframe tbody tr th:only-of-type {\n",
       "        vertical-align: middle;\n",
       "    }\n",
       "\n",
       "    .dataframe tbody tr th {\n",
       "        vertical-align: top;\n",
       "    }\n",
       "\n",
       "    .dataframe thead th {\n",
       "        text-align: right;\n",
       "    }\n",
       "</style>\n",
       "<table border=\"1\" class=\"dataframe\">\n",
       "  <thead>\n",
       "    <tr style=\"text-align: right;\">\n",
       "      <th></th>\n",
       "      <th>ID</th>\n",
       "      <th>total_funding_usd</th>\n",
       "      <th>funding_rounds</th>\n",
       "      <th>num_investors</th>\n",
       "      <th>funding_duration</th>\n",
       "      <th>first_funding_utc</th>\n",
       "      <th>last_funding_utc</th>\n",
       "      <th>successful_investment</th>\n",
       "    </tr>\n",
       "  </thead>\n",
       "  <tbody>\n",
       "    <tr>\n",
       "      <th>ID</th>\n",
       "      <td>1.000000</td>\n",
       "      <td>-0.001037</td>\n",
       "      <td>-0.003239</td>\n",
       "      <td>-0.001445</td>\n",
       "      <td>-0.000589</td>\n",
       "      <td>0.002331</td>\n",
       "      <td>0.002101</td>\n",
       "      <td>-0.004850</td>\n",
       "    </tr>\n",
       "    <tr>\n",
       "      <th>total_funding_usd</th>\n",
       "      <td>-0.001037</td>\n",
       "      <td>1.000000</td>\n",
       "      <td>0.126302</td>\n",
       "      <td>0.115332</td>\n",
       "      <td>0.104179</td>\n",
       "      <td>-0.047347</td>\n",
       "      <td>0.010942</td>\n",
       "      <td>0.057733</td>\n",
       "    </tr>\n",
       "    <tr>\n",
       "      <th>funding_rounds</th>\n",
       "      <td>-0.003239</td>\n",
       "      <td>0.126302</td>\n",
       "      <td>1.000000</td>\n",
       "      <td>0.626069</td>\n",
       "      <td>0.748669</td>\n",
       "      <td>-0.215163</td>\n",
       "      <td>0.210982</td>\n",
       "      <td>0.118024</td>\n",
       "    </tr>\n",
       "    <tr>\n",
       "      <th>num_investors</th>\n",
       "      <td>-0.001445</td>\n",
       "      <td>0.115332</td>\n",
       "      <td>0.626069</td>\n",
       "      <td>1.000000</td>\n",
       "      <td>0.502424</td>\n",
       "      <td>-0.181112</td>\n",
       "      <td>0.102738</td>\n",
       "      <td>0.143458</td>\n",
       "    </tr>\n",
       "    <tr>\n",
       "      <th>funding_duration</th>\n",
       "      <td>-0.000589</td>\n",
       "      <td>0.104179</td>\n",
       "      <td>0.748669</td>\n",
       "      <td>0.502424</td>\n",
       "      <td>1.000000</td>\n",
       "      <td>-0.373167</td>\n",
       "      <td>0.191067</td>\n",
       "      <td>0.150158</td>\n",
       "    </tr>\n",
       "    <tr>\n",
       "      <th>first_funding_utc</th>\n",
       "      <td>0.002331</td>\n",
       "      <td>-0.047347</td>\n",
       "      <td>-0.215163</td>\n",
       "      <td>-0.181112</td>\n",
       "      <td>-0.373167</td>\n",
       "      <td>1.000000</td>\n",
       "      <td>0.839365</td>\n",
       "      <td>-0.355545</td>\n",
       "    </tr>\n",
       "    <tr>\n",
       "      <th>last_funding_utc</th>\n",
       "      <td>0.002101</td>\n",
       "      <td>0.010942</td>\n",
       "      <td>0.210982</td>\n",
       "      <td>0.102738</td>\n",
       "      <td>0.191067</td>\n",
       "      <td>0.839365</td>\n",
       "      <td>1.000000</td>\n",
       "      <td>-0.288197</td>\n",
       "    </tr>\n",
       "    <tr>\n",
       "      <th>successful_investment</th>\n",
       "      <td>-0.004850</td>\n",
       "      <td>0.057733</td>\n",
       "      <td>0.118024</td>\n",
       "      <td>0.143458</td>\n",
       "      <td>0.150158</td>\n",
       "      <td>-0.355545</td>\n",
       "      <td>-0.288197</td>\n",
       "      <td>1.000000</td>\n",
       "    </tr>\n",
       "  </tbody>\n",
       "</table>\n",
       "</div>"
      ],
      "text/plain": [
       "                             ID  total_funding_usd  funding_rounds  \\\n",
       "ID                     1.000000          -0.001037       -0.003239   \n",
       "total_funding_usd     -0.001037           1.000000        0.126302   \n",
       "funding_rounds        -0.003239           0.126302        1.000000   \n",
       "num_investors         -0.001445           0.115332        0.626069   \n",
       "funding_duration      -0.000589           0.104179        0.748669   \n",
       "first_funding_utc      0.002331          -0.047347       -0.215163   \n",
       "last_funding_utc       0.002101           0.010942        0.210982   \n",
       "successful_investment -0.004850           0.057733        0.118024   \n",
       "\n",
       "                       num_investors  funding_duration  first_funding_utc  \\\n",
       "ID                         -0.001445         -0.000589           0.002331   \n",
       "total_funding_usd           0.115332          0.104179          -0.047347   \n",
       "funding_rounds              0.626069          0.748669          -0.215163   \n",
       "num_investors               1.000000          0.502424          -0.181112   \n",
       "funding_duration            0.502424          1.000000          -0.373167   \n",
       "first_funding_utc          -0.181112         -0.373167           1.000000   \n",
       "last_funding_utc            0.102738          0.191067           0.839365   \n",
       "successful_investment       0.143458          0.150158          -0.355545   \n",
       "\n",
       "                       last_funding_utc  successful_investment  \n",
       "ID                             0.002101              -0.004850  \n",
       "total_funding_usd              0.010942               0.057733  \n",
       "funding_rounds                 0.210982               0.118024  \n",
       "num_investors                  0.102738               0.143458  \n",
       "funding_duration               0.191067               0.150158  \n",
       "first_funding_utc              0.839365              -0.355545  \n",
       "last_funding_utc               1.000000              -0.288197  \n",
       "successful_investment         -0.288197               1.000000  "
      ]
     },
     "execution_count": 80,
     "metadata": {},
     "output_type": "execute_result"
    }
   ],
   "source": [
    "#calcualting the variance\n",
    "#variables with a low variance will not affect the target variable\n",
    "df1.corr()"
   ]
  },
  {
   "cell_type": "code",
   "execution_count": 81,
   "metadata": {},
   "outputs": [],
   "source": [
    "df1=df1.drop('first_funding_utc', 1)\n",
    "df1=df1.drop('funding_duration', 1)"
   ]
  },
  {
   "cell_type": "code",
   "execution_count": 82,
   "metadata": {},
   "outputs": [
    {
     "data": {
      "text/plain": [
       "40213"
      ]
     },
     "execution_count": 82,
     "metadata": {},
     "output_type": "execute_result"
    }
   ],
   "source": [
    "df1['ID'].nunique()"
   ]
  },
  {
   "cell_type": "code",
   "execution_count": 83,
   "metadata": {},
   "outputs": [
    {
     "data": {
      "text/plain": [
       "40082"
      ]
     },
     "execution_count": 83,
     "metadata": {},
     "output_type": "execute_result"
    }
   ],
   "source": [
    "df1['comp_name'].nunique()"
   ]
  },
  {
   "cell_type": "code",
   "execution_count": 84,
   "metadata": {},
   "outputs": [
    {
     "data": {
      "text/plain": [
       "37677"
      ]
     },
     "execution_count": 84,
     "metadata": {},
     "output_type": "execute_result"
    }
   ],
   "source": [
    "df1['website'].nunique()"
   ]
  },
  {
   "cell_type": "code",
   "execution_count": 85,
   "metadata": {},
   "outputs": [
    {
     "data": {
      "text/plain": [
       "4"
      ]
     },
     "execution_count": 85,
     "metadata": {},
     "output_type": "execute_result"
    }
   ],
   "source": [
    "df1['op_status'].nunique()"
   ]
  },
  {
   "cell_type": "code",
   "execution_count": 86,
   "metadata": {},
   "outputs": [
    {
     "data": {
      "text/plain": [
       "17646"
      ]
     },
     "execution_count": 86,
     "metadata": {},
     "output_type": "execute_result"
    }
   ],
   "source": [
    "df1['domain'].nunique()"
   ]
  },
  {
   "cell_type": "code",
   "execution_count": 87,
   "metadata": {},
   "outputs": [
    {
     "data": {
      "text/plain": [
       "4505"
      ]
     },
     "execution_count": 87,
     "metadata": {},
     "output_type": "execute_result"
    }
   ],
   "source": [
    "df1['first_funding_date'].nunique()"
   ]
  },
  {
   "cell_type": "code",
   "execution_count": 88,
   "metadata": {},
   "outputs": [
    {
     "data": {
      "text/plain": [
       "4225"
      ]
     },
     "execution_count": 88,
     "metadata": {},
     "output_type": "execute_result"
    }
   ],
   "source": [
    "df1['last_funding_date'].nunique()"
   ]
  },
  {
   "cell_type": "code",
   "execution_count": 89,
   "metadata": {},
   "outputs": [
    {
     "data": {
      "text/plain": [
       "78"
      ]
     },
     "execution_count": 89,
     "metadata": {},
     "output_type": "execute_result"
    }
   ],
   "source": [
    "df2['hq_country_code'].nunique()"
   ]
  },
  {
   "cell_type": "code",
   "execution_count": 90,
   "metadata": {},
   "outputs": [
    {
     "data": {
      "text/plain": [
       "293"
      ]
     },
     "execution_count": 90,
     "metadata": {},
     "output_type": "execute_result"
    }
   ],
   "source": [
    "df1['hq_state_code'].nunique()"
   ]
  },
  {
   "cell_type": "code",
   "execution_count": 91,
   "metadata": {},
   "outputs": [
    {
     "data": {
      "text/plain": [
       "961"
      ]
     },
     "execution_count": 91,
     "metadata": {},
     "output_type": "execute_result"
    }
   ],
   "source": [
    "df1['hq_region'].nunique()"
   ]
  },
  {
   "cell_type": "code",
   "execution_count": 92,
   "metadata": {},
   "outputs": [
    {
     "data": {
      "text/plain": [
       "3411"
      ]
     },
     "execution_count": 92,
     "metadata": {},
     "output_type": "execute_result"
    }
   ],
   "source": [
    "df1['hq_city'].nunique()"
   ]
  },
  {
   "cell_type": "code",
   "execution_count": 93,
   "metadata": {},
   "outputs": [
    {
     "name": "stdout",
     "output_type": "stream",
     "text": [
      "<class 'pandas.core.frame.DataFrame'>\n",
      "RangeIndex: 40213 entries, 0 to 40212\n",
      "Data columns (total 9 columns):\n",
      "op_status                40213 non-null object\n",
      "hq_country_code          40213 non-null object\n",
      "hq_state_code            40213 non-null object\n",
      "hq_region                40213 non-null object\n",
      "total_funding_usd        40213 non-null float64\n",
      "funding_rounds           40213 non-null int64\n",
      "num_investors            40213 non-null int64\n",
      "last_funding_utc         40213 non-null int64\n",
      "successful_investment    40213 non-null int64\n",
      "dtypes: float64(1), int64(4), object(4)\n",
      "memory usage: 2.8+ MB\n"
     ]
    }
   ],
   "source": [
    "df1.drop(['ID', 'comp_name', 'website', 'domain', 'first_funding_date', 'last_funding_date', 'hq_city'], inplace=True, axis=1)\n",
    "df1.info()"
   ]
  },
  {
   "cell_type": "code",
   "execution_count": 94,
   "metadata": {},
   "outputs": [
    {
     "name": "stdout",
     "output_type": "stream",
     "text": [
      "<class 'pandas.core.frame.DataFrame'>\n",
      "RangeIndex: 4469 entries, 0 to 4468\n",
      "Data columns (total 8 columns):\n",
      "op_status            4469 non-null object\n",
      "hq_country_code      4001 non-null object\n",
      "hq_state_code        3893 non-null object\n",
      "hq_region            3914 non-null object\n",
      "total_funding_usd    3619 non-null float64\n",
      "funding_rounds       4469 non-null int64\n",
      "num_investors        4469 non-null int64\n",
      "last_funding_utc     4469 non-null int64\n",
      "dtypes: float64(1), int64(3), object(4)\n",
      "memory usage: 279.4+ KB\n"
     ]
    }
   ],
   "source": [
    "df2.drop(['ID', 'comp_name', 'first_funding_utc', 'founded_on' ,'funding_duration', 'website', 'domain', 'first_funding_date', 'last_funding_date', 'hq_city'], inplace=True, axis=1)\n",
    "df2.info()"
   ]
  },
  {
   "cell_type": "code",
   "execution_count": 95,
   "metadata": {},
   "outputs": [],
   "source": [
    "df2['total_funding_usd'] = pnd.to_numeric(df2.total_funding_usd.astype(str).str.replace(',',''), errors='coerce')\n",
    "df2['num_investors'] = pnd.to_numeric(df2.num_investors.astype(str).str.replace(',',''), errors='coerce')\n",
    "df2['total_funding_usd'].fillna(df2['total_funding_usd'].mode()[0], inplace=True)\n",
    "df2['num_investors'].fillna(df2['num_investors'].mode()[0], inplace=True)"
   ]
  },
  {
   "cell_type": "code",
   "execution_count": 96,
   "metadata": {},
   "outputs": [
    {
     "data": {
      "text/plain": [
       "op_status                0\n",
       "hq_country_code          0\n",
       "hq_state_code            0\n",
       "hq_region                0\n",
       "total_funding_usd        0\n",
       "funding_rounds           0\n",
       "num_investors            0\n",
       "last_funding_utc         0\n",
       "successful_investment    0\n",
       "dtype: int64"
      ]
     },
     "execution_count": 96,
     "metadata": {},
     "output_type": "execute_result"
    }
   ],
   "source": [
    "df1.isnull().sum()"
   ]
  },
  {
   "cell_type": "code",
   "execution_count": 97,
   "metadata": {},
   "outputs": [
    {
     "data": {
      "text/plain": [
       "op_status              0\n",
       "hq_country_code      468\n",
       "hq_state_code        576\n",
       "hq_region            555\n",
       "total_funding_usd      0\n",
       "funding_rounds         0\n",
       "num_investors          0\n",
       "last_funding_utc       0\n",
       "dtype: int64"
      ]
     },
     "execution_count": 97,
     "metadata": {},
     "output_type": "execute_result"
    }
   ],
   "source": [
    "df2.isnull().sum()"
   ]
  },
  {
   "cell_type": "code",
   "execution_count": 98,
   "metadata": {},
   "outputs": [],
   "source": [
    "df2['hq_country_code'].fillna(df2['hq_country_code'].mode()[0], inplace=True)\n",
    "df2['hq_state_code'].fillna(df2['hq_state_code'].mode()[0], inplace=True)\n",
    "df2['hq_region'].fillna(df2['hq_region'].mode()[0], inplace=True)\n",
    "df2['total_funding_usd'].fillna(df2['total_funding_usd'].mode()[0], inplace=True)"
   ]
  },
  {
   "cell_type": "code",
   "execution_count": 99,
   "metadata": {},
   "outputs": [
    {
     "data": {
      "text/plain": [
       "op_status            0\n",
       "hq_country_code      0\n",
       "hq_state_code        0\n",
       "hq_region            0\n",
       "total_funding_usd    0\n",
       "funding_rounds       0\n",
       "num_investors        0\n",
       "last_funding_utc     0\n",
       "dtype: int64"
      ]
     },
     "execution_count": 99,
     "metadata": {},
     "output_type": "execute_result"
    }
   ],
   "source": [
    "df2.isnull().sum()"
   ]
  },
  {
   "cell_type": "code",
   "execution_count": 100,
   "metadata": {},
   "outputs": [],
   "source": [
    "df1['op_status'] = pnd.factorize(df1['op_status'])[0] \n",
    "df1['hq_country_code'] = pnd.factorize(df1['hq_country_code'])[0] \n",
    "df1['hq_state_code'] = pnd.factorize(df1['hq_state_code'])[0] \n",
    "df1['hq_region'] = pnd.factorize(df1['hq_region'])[0] "
   ]
  },
  {
   "cell_type": "code",
   "execution_count": 101,
   "metadata": {},
   "outputs": [
    {
     "data": {
      "text/html": [
       "<div>\n",
       "<style scoped>\n",
       "    .dataframe tbody tr th:only-of-type {\n",
       "        vertical-align: middle;\n",
       "    }\n",
       "\n",
       "    .dataframe tbody tr th {\n",
       "        vertical-align: top;\n",
       "    }\n",
       "\n",
       "    .dataframe thead th {\n",
       "        text-align: right;\n",
       "    }\n",
       "</style>\n",
       "<table border=\"1\" class=\"dataframe\">\n",
       "  <thead>\n",
       "    <tr style=\"text-align: right;\">\n",
       "      <th></th>\n",
       "      <th>op_status</th>\n",
       "      <th>hq_country_code</th>\n",
       "      <th>hq_state_code</th>\n",
       "      <th>hq_region</th>\n",
       "      <th>total_funding_usd</th>\n",
       "      <th>funding_rounds</th>\n",
       "      <th>num_investors</th>\n",
       "      <th>last_funding_utc</th>\n",
       "      <th>successful_investment</th>\n",
       "    </tr>\n",
       "  </thead>\n",
       "  <tbody>\n",
       "    <tr>\n",
       "      <th>0</th>\n",
       "      <td>0</td>\n",
       "      <td>0</td>\n",
       "      <td>0</td>\n",
       "      <td>0</td>\n",
       "      <td>6820000.0</td>\n",
       "      <td>1</td>\n",
       "      <td>4</td>\n",
       "      <td>12907</td>\n",
       "      <td>0</td>\n",
       "    </tr>\n",
       "    <tr>\n",
       "      <th>1</th>\n",
       "      <td>1</td>\n",
       "      <td>1</td>\n",
       "      <td>1</td>\n",
       "      <td>1</td>\n",
       "      <td>1000000.0</td>\n",
       "      <td>1</td>\n",
       "      <td>1</td>\n",
       "      <td>11411</td>\n",
       "      <td>1</td>\n",
       "    </tr>\n",
       "    <tr>\n",
       "      <th>2</th>\n",
       "      <td>2</td>\n",
       "      <td>1</td>\n",
       "      <td>2</td>\n",
       "      <td>2</td>\n",
       "      <td>165778.0</td>\n",
       "      <td>5</td>\n",
       "      <td>4</td>\n",
       "      <td>16217</td>\n",
       "      <td>0</td>\n",
       "    </tr>\n",
       "    <tr>\n",
       "      <th>3</th>\n",
       "      <td>0</td>\n",
       "      <td>1</td>\n",
       "      <td>3</td>\n",
       "      <td>3</td>\n",
       "      <td>5000000.0</td>\n",
       "      <td>1</td>\n",
       "      <td>1</td>\n",
       "      <td>12784</td>\n",
       "      <td>0</td>\n",
       "    </tr>\n",
       "    <tr>\n",
       "      <th>4</th>\n",
       "      <td>2</td>\n",
       "      <td>1</td>\n",
       "      <td>3</td>\n",
       "      <td>3</td>\n",
       "      <td>15250000.0</td>\n",
       "      <td>2</td>\n",
       "      <td>4</td>\n",
       "      <td>16693</td>\n",
       "      <td>0</td>\n",
       "    </tr>\n",
       "  </tbody>\n",
       "</table>\n",
       "</div>"
      ],
      "text/plain": [
       "   op_status  hq_country_code  hq_state_code  hq_region  total_funding_usd  \\\n",
       "0          0                0              0          0          6820000.0   \n",
       "1          1                1              1          1          1000000.0   \n",
       "2          2                1              2          2           165778.0   \n",
       "3          0                1              3          3          5000000.0   \n",
       "4          2                1              3          3         15250000.0   \n",
       "\n",
       "   funding_rounds  num_investors  last_funding_utc  successful_investment  \n",
       "0               1              4             12907                      0  \n",
       "1               1              1             11411                      1  \n",
       "2               5              4             16217                      0  \n",
       "3               1              1             12784                      0  \n",
       "4               2              4             16693                      0  "
      ]
     },
     "execution_count": 101,
     "metadata": {},
     "output_type": "execute_result"
    }
   ],
   "source": [
    "df1.head()"
   ]
  },
  {
   "cell_type": "code",
   "execution_count": 102,
   "metadata": {},
   "outputs": [],
   "source": [
    "df2['op_status'] = pnd.factorize(df2['op_status'])[0] \n",
    "df2['hq_country_code'] = pnd.factorize(df2['hq_country_code'])[0] \n",
    "df2['hq_state_code'] = pnd.factorize(df2['hq_state_code'])[0] \n",
    "df2['hq_region'] = pnd.factorize(df2['hq_region'])[0] "
   ]
  },
  {
   "cell_type": "code",
   "execution_count": 103,
   "metadata": {},
   "outputs": [
    {
     "data": {
      "text/html": [
       "<div>\n",
       "<style scoped>\n",
       "    .dataframe tbody tr th:only-of-type {\n",
       "        vertical-align: middle;\n",
       "    }\n",
       "\n",
       "    .dataframe tbody tr th {\n",
       "        vertical-align: top;\n",
       "    }\n",
       "\n",
       "    .dataframe thead th {\n",
       "        text-align: right;\n",
       "    }\n",
       "</style>\n",
       "<table border=\"1\" class=\"dataframe\">\n",
       "  <thead>\n",
       "    <tr style=\"text-align: right;\">\n",
       "      <th></th>\n",
       "      <th>op_status</th>\n",
       "      <th>hq_country_code</th>\n",
       "      <th>hq_state_code</th>\n",
       "      <th>hq_region</th>\n",
       "      <th>total_funding_usd</th>\n",
       "      <th>funding_rounds</th>\n",
       "      <th>num_investors</th>\n",
       "      <th>last_funding_utc</th>\n",
       "    </tr>\n",
       "  </thead>\n",
       "  <tbody>\n",
       "    <tr>\n",
       "      <th>0</th>\n",
       "      <td>0</td>\n",
       "      <td>0</td>\n",
       "      <td>0</td>\n",
       "      <td>0</td>\n",
       "      <td>73600000.0</td>\n",
       "      <td>2</td>\n",
       "      <td>5</td>\n",
       "      <td>16610</td>\n",
       "    </tr>\n",
       "    <tr>\n",
       "      <th>1</th>\n",
       "      <td>0</td>\n",
       "      <td>0</td>\n",
       "      <td>1</td>\n",
       "      <td>1</td>\n",
       "      <td>28612936.0</td>\n",
       "      <td>3</td>\n",
       "      <td>7</td>\n",
       "      <td>16757</td>\n",
       "    </tr>\n",
       "    <tr>\n",
       "      <th>2</th>\n",
       "      <td>1</td>\n",
       "      <td>1</td>\n",
       "      <td>2</td>\n",
       "      <td>2</td>\n",
       "      <td>2000000.0</td>\n",
       "      <td>1</td>\n",
       "      <td>1</td>\n",
       "      <td>15813</td>\n",
       "    </tr>\n",
       "    <tr>\n",
       "      <th>3</th>\n",
       "      <td>1</td>\n",
       "      <td>0</td>\n",
       "      <td>3</td>\n",
       "      <td>3</td>\n",
       "      <td>12700000.0</td>\n",
       "      <td>1</td>\n",
       "      <td>3</td>\n",
       "      <td>14146</td>\n",
       "    </tr>\n",
       "    <tr>\n",
       "      <th>4</th>\n",
       "      <td>0</td>\n",
       "      <td>2</td>\n",
       "      <td>4</td>\n",
       "      <td>4</td>\n",
       "      <td>2000000.0</td>\n",
       "      <td>1</td>\n",
       "      <td>7</td>\n",
       "      <td>16526</td>\n",
       "    </tr>\n",
       "  </tbody>\n",
       "</table>\n",
       "</div>"
      ],
      "text/plain": [
       "   op_status  hq_country_code  hq_state_code  hq_region  total_funding_usd  \\\n",
       "0          0                0              0          0         73600000.0   \n",
       "1          0                0              1          1         28612936.0   \n",
       "2          1                1              2          2          2000000.0   \n",
       "3          1                0              3          3         12700000.0   \n",
       "4          0                2              4          4          2000000.0   \n",
       "\n",
       "   funding_rounds  num_investors  last_funding_utc  \n",
       "0               2              5             16610  \n",
       "1               3              7             16757  \n",
       "2               1              1             15813  \n",
       "3               1              3             14146  \n",
       "4               1              7             16526  "
      ]
     },
     "execution_count": 103,
     "metadata": {},
     "output_type": "execute_result"
    }
   ],
   "source": [
    "df2.head()"
   ]
  },
  {
   "cell_type": "code",
   "execution_count": 104,
   "metadata": {},
   "outputs": [],
   "source": [
    "y = df1.iloc[:, 8].values\n",
    "X = df1.iloc[:, :-1].values\n",
    "x = df2.iloc[:, :].values"
   ]
  },
  {
   "cell_type": "code",
   "execution_count": 105,
   "metadata": {},
   "outputs": [
    {
     "name": "stderr",
     "output_type": "stream",
     "text": [
      "C:\\Users\\Ayush Mishra\\Anaconda3\\lib\\site-packages\\sklearn\\linear_model\\logistic.py:432: FutureWarning: Default solver will be changed to 'lbfgs' in 0.22. Specify a solver to silence this warning.\n",
      "  FutureWarning)\n"
     ]
    },
    {
     "data": {
      "text/plain": [
       "LogisticRegression(C=1.0, class_weight=None, dual=False, fit_intercept=True,\n",
       "                   intercept_scaling=1, l1_ratio=None, max_iter=100,\n",
       "                   multi_class='warn', n_jobs=None, penalty='l2',\n",
       "                   random_state=0, solver='warn', tol=0.0001, verbose=0,\n",
       "                   warm_start=False)"
      ]
     },
     "execution_count": 105,
     "metadata": {},
     "output_type": "execute_result"
    }
   ],
   "source": [
    "from sklearn.linear_model import LogisticRegression\n",
    "classifier = LogisticRegression(random_state = 0)\n",
    "classifier.fit(X, y)"
   ]
  },
  {
   "cell_type": "code",
   "execution_count": 106,
   "metadata": {},
   "outputs": [],
   "source": [
    "y_pred = classifier.predict(x)"
   ]
  },
  {
   "cell_type": "code",
   "execution_count": 107,
   "metadata": {},
   "outputs": [
    {
     "data": {
      "text/plain": [
       "array([0, 0, 0, ..., 0, 0, 0], dtype=int64)"
      ]
     },
     "execution_count": 107,
     "metadata": {},
     "output_type": "execute_result"
    }
   ],
   "source": [
    "y_pred"
   ]
  },
  {
   "cell_type": "code",
   "execution_count": 140,
   "metadata": {},
   "outputs": [],
   "source": [
    "# Fitting Random Forest Classification to the Training set\n",
    "from sklearn.ensemble import RandomForestClassifier\n",
    "classifier = RandomForestClassifier(n_estimators = 10, criterion = 'entropy', random_state = 0)\n",
    "classifier.fit(X, y)\n",
    "\n",
    "# Predicting the Test set results\n",
    "y_pred = classifier.predict(x)"
   ]
  },
  {
   "cell_type": "code",
   "execution_count": 141,
   "metadata": {},
   "outputs": [
    {
     "data": {
      "text/plain": [
       "array([16610, 16757, 15813, ..., 12992, 15211, 16760], dtype=int64)"
      ]
     },
     "execution_count": 141,
     "metadata": {},
     "output_type": "execute_result"
    }
   ],
   "source": [
    "df2['last_funding_utc'].unique()"
   ]
  },
  {
   "cell_type": "code",
   "execution_count": 142,
   "metadata": {},
   "outputs": [
    {
     "name": "stdout",
     "output_type": "stream",
     "text": [
      "[0 0 1 ... 0 0 0]\n"
     ]
    }
   ],
   "source": [
    "print(y_pred)"
   ]
  },
  {
   "cell_type": "code",
   "execution_count": 143,
   "metadata": {},
   "outputs": [
    {
     "data": {
      "text/plain": [
       "<matplotlib.axes._subplots.AxesSubplot at 0x214cc4e7a20>"
      ]
     },
     "execution_count": 143,
     "metadata": {},
     "output_type": "execute_result"
    },
    {
     "data": {
      "image/png": "[encoded data removed]",
      "text/plain": [
       "<Figure size 1080x1080 with 2 Axes>"
      ]
     },
     "metadata": {},
     "output_type": "display_data"
    }
   ],
   "source": [
    "import seaborn as sns\n",
    "import matplotlib.pyplot as plt\n",
    "from matplotlib.colors import ListedColormap\n",
    "sns.set(style=\"white\", color_codes=True)\n",
    "plt.figure(figsize=(15,15)) \n",
    "sns.heatmap(df1.corr(),annot=True,cmap='cubehelix_r')"
   ]
  },
  {
   "cell_type": "code",
   "execution_count": 144,
   "metadata": {},
   "outputs": [
    {
     "data": {
      "text/plain": [
       "array([[<matplotlib.axes._subplots.AxesSubplot object at 0x00000214CCD97E10>,\n",
       "        <matplotlib.axes._subplots.AxesSubplot object at 0x00000214CCDEAF28>,\n",
       "        <matplotlib.axes._subplots.AxesSubplot object at 0x00000214CC89F908>,\n",
       "        <matplotlib.axes._subplots.AxesSubplot object at 0x00000214CC8D62E8>,\n",
       "        <matplotlib.axes._subplots.AxesSubplot object at 0x00000214CC900C88>],\n",
       "       [<matplotlib.axes._subplots.AxesSubplot object at 0x00000214CC939668>,\n",
       "        <matplotlib.axes._subplots.AxesSubplot object at 0x00000214CC976048>,\n",
       "        <matplotlib.axes._subplots.AxesSubplot object at 0x00000214CC9A3A20>,\n",
       "        <matplotlib.axes._subplots.AxesSubplot object at 0x00000214CC9A3A58>,\n",
       "        <matplotlib.axes._subplots.AxesSubplot object at 0x00000214CCA0BD68>],\n",
       "       [<matplotlib.axes._subplots.AxesSubplot object at 0x00000214CCA3B358>,\n",
       "        <matplotlib.axes._subplots.AxesSubplot object at 0x00000214CCA820F0>,\n",
       "        <matplotlib.axes._subplots.AxesSubplot object at 0x00000214CCAAEA90>,\n",
       "        <matplotlib.axes._subplots.AxesSubplot object at 0x00000214CCAE9470>,\n",
       "        <matplotlib.axes._subplots.AxesSubplot object at 0x00000214CCB17E10>],\n",
       "       [<matplotlib.axes._subplots.AxesSubplot object at 0x00000214CCB547F0>,\n",
       "        <matplotlib.axes._subplots.AxesSubplot object at 0x00000214CCB8F1D0>,\n",
       "        <matplotlib.axes._subplots.AxesSubplot object at 0x00000214CCBBBB70>,\n",
       "        <matplotlib.axes._subplots.AxesSubplot object at 0x00000214CCBF5550>,\n",
       "        <matplotlib.axes._subplots.AxesSubplot object at 0x00000214CCC25EF0>]],\n",
       "      dtype=object)"
      ]
     },
     "execution_count": 144,
     "metadata": {},
     "output_type": "execute_result"
    },
    {
     "data": {
      "image/png": "[encoded data removed]",
      "text/plain": [
       "<Figure size 432x288 with 20 Axes>"
      ]
     },
     "metadata": {},
     "output_type": "display_data"
    }
   ],
   "source": [
    "df1.plot(kind='density', subplots=True, layout=(4,5), sharex=False)"
   ]
  },
  {
   "cell_type": "code",
   "execution_count": 145,
   "metadata": {},
   "outputs": [
    {
     "data": {
      "text/plain": [
       "array([[<matplotlib.axes._subplots.AxesSubplot object at 0x00000214CCD97E80>,\n",
       "        <matplotlib.axes._subplots.AxesSubplot object at 0x00000214CD14F588>,\n",
       "        <matplotlib.axes._subplots.AxesSubplot object at 0x00000214CD174EB8>],\n",
       "       [<matplotlib.axes._subplots.AxesSubplot object at 0x00000214CD1AB898>,\n",
       "        <matplotlib.axes._subplots.AxesSubplot object at 0x00000214CD1E7278>,\n",
       "        <matplotlib.axes._subplots.AxesSubplot object at 0x00000214CD213C18>],\n",
       "       [<matplotlib.axes._subplots.AxesSubplot object at 0x00000214CCC7A7B8>,\n",
       "        <matplotlib.axes._subplots.AxesSubplot object at 0x00000214CD25C8D0>,\n",
       "        <matplotlib.axes._subplots.AxesSubplot object at 0x00000214CD25C908>]],\n",
       "      dtype=object)"
      ]
     },
     "execution_count": 145,
     "metadata": {},
     "output_type": "execute_result"
    },
    {
     "data": {
      "image/png": "[encoded data removed]",
      "text/plain": [
       "<Figure size 432x288 with 9 Axes>"
      ]
     },
     "metadata": {},
     "output_type": "display_data"
    }
   ],
   "source": [
    "df1.hist()"
   ]
  },
  {
   "cell_type": "code",
   "execution_count": null,
   "metadata": {},
   "outputs": [],
   "source": []
  },
  {
   "cell_type": "code",
   "execution_count": 147,
   "metadata": {},
   "outputs": [],
   "source": [
    "submission_final = pnd.DataFrame({'successful_investment':y_pred})"
   ]
  },
  {
   "cell_type": "code",
   "execution_count": 150,
   "metadata": {},
   "outputs": [
    {
     "data": {
      "text/html": [
       "<div>\n",
       "<style scoped>\n",
       "    .dataframe tbody tr th:only-of-type {\n",
       "        vertical-align: middle;\n",
       "    }\n",
       "\n",
       "    .dataframe tbody tr th {\n",
       "        vertical-align: top;\n",
       "    }\n",
       "\n",
       "    .dataframe thead th {\n",
       "        text-align: right;\n",
       "    }\n",
       "</style>\n",
       "<table border=\"1\" class=\"dataframe\">\n",
       "  <thead>\n",
       "    <tr style=\"text-align: right;\">\n",
       "      <th></th>\n",
       "      <th>successful_investment</th>\n",
       "    </tr>\n",
       "  </thead>\n",
       "  <tbody>\n",
       "    <tr>\n",
       "      <th>0</th>\n",
       "      <td>0</td>\n",
       "    </tr>\n",
       "    <tr>\n",
       "      <th>1</th>\n",
       "      <td>0</td>\n",
       "    </tr>\n",
       "    <tr>\n",
       "      <th>2</th>\n",
       "      <td>1</td>\n",
       "    </tr>\n",
       "    <tr>\n",
       "      <th>3</th>\n",
       "      <td>1</td>\n",
       "    </tr>\n",
       "    <tr>\n",
       "      <th>4</th>\n",
       "      <td>0</td>\n",
       "    </tr>\n",
       "  </tbody>\n",
       "</table>\n",
       "</div>"
      ],
      "text/plain": [
       "   successful_investment\n",
       "0                      0\n",
       "1                      0\n",
       "2                      1\n",
       "3                      1\n",
       "4                      0"
      ]
     },
     "execution_count": 150,
     "metadata": {},
     "output_type": "execute_result"
    }
   ],
   "source": [
    "submission_final.head()"
   ]
  },
  {
   "cell_type": "code",
   "execution_count": 151,
   "metadata": {},
   "outputs": [
    {
     "name": "stdout",
     "output_type": "stream",
     "text": [
      "Saved file: Submission_final.csv\n"
     ]
    }
   ],
   "source": [
    "filename = 'Submission_final.csv'\n",
    "\n",
    "submission_final.to_csv(filename,index=False)\n",
    "\n",
    "print('Saved file: ' + filename)"
   ]
  },
  {
   "cell_type": "code",
   "execution_count": null,
   "metadata": {},
   "outputs": [],
   "source": []
  }
 ],
 "metadata": {
  "kernelspec": {
   "display_name": "Python 3",
   "language": "python",
   "name": "python3"
  },
  "language_info": {
   "codemirror_mode": {
    "name": "ipython",
    "version": 3
   },
   "file_extension": ".py",
   "mimetype": "text/x-python",
   "name": "python",
   "nbconvert_exporter": "python",
   "pygments_lexer": "ipython3",
   "version": "3.7.3"
  }
 },
 "nbformat": 4,
 "nbformat_minor": 2
}
